{
  "nbformat": 4,
  "nbformat_minor": 0,
  "metadata": {
    "colab": {
      "provenance": [],
      "authorship_tag": "ABX9TyPAGnk30MUCm1/R3Y7QolvT",
      "include_colab_link": true
    },
    "kernelspec": {
      "name": "python3",
      "display_name": "Python 3"
    },
    "language_info": {
      "name": "python"
    }
  },
  "cells": [
    {
      "cell_type": "markdown",
      "metadata": {
        "id": "view-in-github",
        "colab_type": "text"
      },
      "source": [
        "<a href=\"https://colab.research.google.com/github/M-Dev-Pires/Temporazidor-e-Tabuada/blob/main/Temporazidor_Tabuada.ipynb\" target=\"_parent\"><img src=\"https://colab.research.google.com/assets/colab-badge.svg\" alt=\"Open In Colab\"/></a>"
      ]
    },
    {
      "cell_type": "code",
      "execution_count": null,
      "metadata": {
        "id": "MusWwzlOHN8u"
      },
      "outputs": [],
      "source": [
        "import time"
      ]
    },
    {
      "cell_type": "code",
      "source": [
        "for elem in range(20, -1, -1):\n",
        "  print(elem)\n",
        "  time.sleep(1)\n",
        "\n",
        "print('Fim da contagem')"
      ],
      "metadata": {
        "colab": {
          "base_uri": "https://localhost:8080/"
        },
        "id": "MUzE2uriJYRF",
        "outputId": "0faf338d-57c6-4f2f-e415-cf86821bc6f2"
      },
      "execution_count": null,
      "outputs": [
        {
          "output_type": "stream",
          "name": "stdout",
          "text": [
            "20\n",
            "19\n",
            "18\n",
            "17\n",
            "16\n",
            "15\n",
            "14\n",
            "13\n",
            "12\n",
            "11\n",
            "10\n",
            "9\n",
            "8\n",
            "7\n",
            "6\n",
            "5\n",
            "4\n",
            "3\n",
            "2\n",
            "1\n",
            "0\n",
            "Fim da contagem\n"
          ]
        }
      ]
    },
    {
      "cell_type": "code",
      "source": [
        "nº_tabuada = int(input('Digite o nº e obtenha sua tabuada: '))\n",
        "\n",
        "print(f'Tabuada do {nº_tabuada}:')\n",
        "for elem in range(1, 11):\n",
        "  resultado = elem * nº_tabuada\n",
        "  print(f'{nº_tabuada} x {elem} = {resultado}')\n"
      ],
      "metadata": {
        "colab": {
          "base_uri": "https://localhost:8080/"
        },
        "id": "_YzrU7ggJ3jM",
        "outputId": "04f18284-5a89-493d-cf39-200faa7a5050"
      },
      "execution_count": null,
      "outputs": [
        {
          "output_type": "stream",
          "name": "stdout",
          "text": [
            "Digite o nº e obtenha sua tabuada: 5\n",
            "Tabuada do 5:\n",
            "5 x 1 = 5\n",
            "5 x 2 = 10\n",
            "5 x 3 = 15\n",
            "5 x 4 = 20\n",
            "5 x 5 = 25\n",
            "5 x 6 = 30\n",
            "5 x 7 = 35\n",
            "5 x 8 = 40\n",
            "5 x 9 = 45\n",
            "5 x 10 = 50\n"
          ]
        }
      ]
    },
    {
      "cell_type": "code",
      "source": [],
      "metadata": {
        "id": "MNGk8o08OPDF"
      },
      "execution_count": null,
      "outputs": []
    }
  ]
}